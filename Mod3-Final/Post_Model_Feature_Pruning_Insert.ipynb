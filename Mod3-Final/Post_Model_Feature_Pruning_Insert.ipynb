{
 "cells": [
  {
   "cell_type": "markdown",
   "id": "3a28a026",
   "metadata": {},
   "source": [
    "### Post-Model Feature Pruning (Gradient Boosting)\n",
    "\n",
    "After selecting Gradient Boosting as our best model based on cross-validation RMSE, we performed model-specific feature pruning. This was done using permutation importance to identify the top 15 most predictive features. We then retrained and evaluated the model on this reduced feature set.\n"
   ]
  },
  {
   "cell_type": "code",
   "execution_count": null,
   "id": "d745500c",
   "metadata": {},
   "outputs": [],
   "source": [
    "from sklearn.inspection import permutation_importance\n",
    "from sklearn.ensemble import GradientBoostingRegressor\n",
    "from sklearn.metrics import mean_squared_error\n",
    "import numpy as np\n",
    "\n",
    "# Recreate and retrain the best model (Gradient Boosting with selected hyperparameters)\n",
    "final_model = GradientBoostingRegressor(n_estimators=200, learning_rate=0.1, max_depth=3, random_state=42)\n",
    "final_model.fit(X_train, y_train)\n",
    "\n",
    "# Compute permutation importance\n",
    "perm = permutation_importance(final_model, X_test, y_test, n_repeats=5, random_state=42)\n",
    "sorted_idx = perm.importances_mean.argsort()[::-1]\n",
    "\n",
    "# Get top 15 features\n",
    "top_features = X_numeric.columns[sorted_idx[:15]]\n",
    "print(\"Top 15 Features:\", list(top_features))\n",
    "\n",
    "# Filter train/test data\n",
    "X_train_top = X_train[top_features]\n",
    "X_test_top = X_test[top_features]\n",
    "\n",
    "# Retrain and evaluate\n",
    "final_model.fit(X_train_top, y_train)\n",
    "y_pred_top = final_model.predict(X_test_top)\n",
    "rmse_top = np.sqrt(mean_squared_error(y_test, y_pred_top))\n",
    "print(f\"Improved RMSE using top 15 features: {rmse_top:.2f}\")\n"
   ]
  },
  {
   "cell_type": "code",
   "execution_count": null,
   "id": "06049a55",
   "metadata": {},
   "outputs": [],
   "source": [
    "# ======= RMSE Visualization =======\n",
    "import matplotlib.pyplot as plt\n",
    "\n",
    "rmse_all_features = results_df[results_df['Model'] == 'GradientBoosting']['Test RMSE'].values[0]\n",
    "labels = ['All Features', 'Top 15 Features']\n",
    "rmse_values = [rmse_all_features, rmse_top]\n",
    "\n",
    "plt.figure(figsize=(8, 5))\n",
    "plt.bar(labels, rmse_values)\n",
    "plt.ylabel('RMSE')\n",
    "plt.title('RMSE Comparison: All Features vs. Top 15 Features')\n",
    "plt.grid(axis='y')\n",
    "plt.tight_layout()\n",
    "plt.show()\n",
    "\n",
    "rmse_change = rmse_all_features - rmse_top\n",
    "improvement_pct = (rmse_change / rmse_all_features) * 100\n",
    "print(f\"RMSE improved by: {rmse_change:.2f} ({improvement_pct:.2f}%)\")\n"
   ]
  }
 ],
 "metadata": {
  "language_info": {
   "name": "python"
  }
 },
 "nbformat": 4,
 "nbformat_minor": 5
}
